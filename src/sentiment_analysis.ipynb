{
 "metadata": {
  "language_info": {
   "codemirror_mode": {
    "name": "ipython",
    "version": 3
   },
   "file_extension": ".py",
   "mimetype": "text/x-python",
   "name": "python",
   "nbconvert_exporter": "python",
   "pygments_lexer": "ipython3",
   "version": "3.6.9"
  },
  "orig_nbformat": 2,
  "kernelspec": {
   "name": "python369jvsc74a57bd077642b1de94b3ecd25ac7cee94ae6d4cd14a15f998248e7a28e862a045f813e3",
   "display_name": "Python 3.6.9 64-bit ('tcc_puc': venv)"
  },
  "metadata": {
   "interpreter": {
    "hash": "77642b1de94b3ecd25ac7cee94ae6d4cd14a15f998248e7a28e862a045f813e3"
   }
  }
 },
 "nbformat": 4,
 "nbformat_minor": 2,
 "cells": [
  {
   "source": [
    "## Step 1 - Creating pandas dataframe"
   ],
   "cell_type": "markdown",
   "metadata": {}
  },
  {
   "cell_type": "code",
   "execution_count": 1,
   "metadata": {},
   "outputs": [],
   "source": [
    "import glob\n",
    "import os\n",
    "import pandas as pd\n",
    "import re\n",
    "import numpy as np\n",
    "\n",
    "base_path_to_csv = os.path.join(os.getcwd() + '/eltweets/*.csv')\n",
    "csv_list = glob.glob(base_path_to_csv)\n",
    "\n",
    "# index_col removes the duplicates\n",
    "df_list = [pd.read_csv(csv, index_col='id') for csv in csv_list]\n",
    "df = pd.concat(df_list)\n",
    "# df.info()"
   ]
  },
  {
   "source": [
    "## Step 2 - Data cleaning"
   ],
   "cell_type": "markdown",
   "metadata": {}
  },
  {
   "cell_type": "code",
   "execution_count": 3,
   "metadata": {},
   "outputs": [
    {
     "output_type": "execute_result",
     "data": {
      "text/plain": [
       "                                   created_at  \\\n",
       "id                                              \n",
       "1404132183254523905 2021-06-13 00:00:00+00:00   \n",
       "1400620080090730501 2021-06-04 00:00:00+00:00   \n",
       "1396914548167233537 2021-05-24 00:00:00+00:00   \n",
       "1396049547680391168 2021-05-22 00:00:00+00:00   \n",
       "1395472799020421120 2021-05-20 00:00:00+00:00   \n",
       "\n",
       "                                                             full_text  \\\n",
       "id                                                                       \n",
       "1404132183254523905  this is inaccurate  tesla only sold      of ho...   \n",
       "1400620080090730501                                            bitcoin   \n",
       "1396914548167233537  spoke with north american bitcoin miners  they...   \n",
       "1396049547680391168  the true battle is between fiat  amp  crypto  ...   \n",
       "1395472799020421120  bitcoin hashing  aka mining  energy usage is s...   \n",
       "\n",
       "                     retweet_count  \n",
       "id                                  \n",
       "1404132183254523905          11062  \n",
       "1400620080090730501          22896  \n",
       "1396914548167233537          39327  \n",
       "1396049547680391168          12921  \n",
       "1395472799020421120            891  "
      ],
      "text/html": "<div>\n<style scoped>\n    .dataframe tbody tr th:only-of-type {\n        vertical-align: middle;\n    }\n\n    .dataframe tbody tr th {\n        vertical-align: top;\n    }\n\n    .dataframe thead th {\n        text-align: right;\n    }\n</style>\n<table border=\"1\" class=\"dataframe\">\n  <thead>\n    <tr style=\"text-align: right;\">\n      <th></th>\n      <th>created_at</th>\n      <th>full_text</th>\n      <th>retweet_count</th>\n    </tr>\n    <tr>\n      <th>id</th>\n      <th></th>\n      <th></th>\n      <th></th>\n    </tr>\n  </thead>\n  <tbody>\n    <tr>\n      <th>1404132183254523905</th>\n      <td>2021-06-13 00:00:00+00:00</td>\n      <td>this is inaccurate  tesla only sold      of ho...</td>\n      <td>11062</td>\n    </tr>\n    <tr>\n      <th>1400620080090730501</th>\n      <td>2021-06-04 00:00:00+00:00</td>\n      <td>bitcoin</td>\n      <td>22896</td>\n    </tr>\n    <tr>\n      <th>1396914548167233537</th>\n      <td>2021-05-24 00:00:00+00:00</td>\n      <td>spoke with north american bitcoin miners  they...</td>\n      <td>39327</td>\n    </tr>\n    <tr>\n      <th>1396049547680391168</th>\n      <td>2021-05-22 00:00:00+00:00</td>\n      <td>the true battle is between fiat  amp  crypto  ...</td>\n      <td>12921</td>\n    </tr>\n    <tr>\n      <th>1395472799020421120</th>\n      <td>2021-05-20 00:00:00+00:00</td>\n      <td>bitcoin hashing  aka mining  energy usage is s...</td>\n      <td>891</td>\n    </tr>\n  </tbody>\n</table>\n</div>"
     },
     "metadata": {},
     "execution_count": 3
    }
   ],
   "source": [
    "df.drop_duplicates(inplace=True)\n",
    "df['full_text'] = df['full_text'].astype('str')\n",
    "df['created_at'] = pd.to_datetime(df['created_at'])\n",
    "df['created_at'] = df['created_at'].dt.normalize()\n",
    "\n",
    "df['full_text'] = df['full_text'].str.lower()\n",
    "df = df[(df['full_text'].str.contains(\"bitcoin\") | df['full_text'].str.contains(\"btc\") | df['full_text'].str.contains(\"crypto\"))]\n",
    "\n",
    "\n",
    "remove_rt = lambda x: re.sub('RT @\\w+: ', ' ', x)\n",
    "rt = lambda x: re.sub('(@[A-Za-z0–9]+)|([^-9A-Za-z \\t])|(\\w+:\\/\\/\\S+)', ' ', x)\n",
    "df['full_text'] = df['full_text'].map(remove_rt).map(rt)\n",
    "df['full_text'] = df['full_text'].str.strip()\n",
    "df['full_text'] = df['full_text'].replace('', np.NaN)\n",
    "df.dropna(inplace=True)\n",
    "\n",
    "df.head()"
   ]
  },
  {
   "cell_type": "code",
   "execution_count": null,
   "metadata": {},
   "outputs": [],
   "source": []
  }
 ]
}