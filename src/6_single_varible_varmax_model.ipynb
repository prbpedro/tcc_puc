{
 "cells": [
  {
   "cell_type": "code",
   "execution_count": 35,
   "metadata": {},
   "outputs": [],
   "source": [
    "import pandas as pd\n",
    "import matplotlib.pyplot as plt\n",
    "import numpy as np\n",
    "import seaborn as sns\n",
    "from sklearn.metrics import mean_squared_error\n",
    "from sklearn.preprocessing import MinMaxScaler\n",
    "import tensorflow\n",
    "from tensorflow.keras import Sequential\n",
    "from tensorflow.keras.layers import Dense\n",
    "from tensorflow.keras.layers import LSTM\n",
    "from statsmodels.tsa.vector_ar.var_model import VAR\n",
    "from sklearn.utils import shuffle\n",
    "from sklearn.metrics import r2_score\n",
    "from time_series_service import series_to_supervised"
   ]
  },
  {
   "cell_type": "markdown",
   "metadata": {},
   "source": []
  },
  {
   "cell_type": "code",
   "execution_count": 36,
   "metadata": {},
   "outputs": [
    {
     "name": "stdout",
     "output_type": "stream",
     "text": [
      "<class 'pandas.core.frame.DataFrame'>\n",
      "Index: 361 entries, 2020-07-01 to 2021-06-26\n",
      "Data columns (total 2 columns):\n",
      " #   Column    Non-Null Count  Dtype  \n",
      "---  ------    --------------  -----  \n",
      " 0   Compound  361 non-null    float64\n",
      " 1   Price     360 non-null    float64\n",
      "dtypes: float64(2)\n",
      "memory usage: 8.5+ KB\n"
     ]
    },
    {
     "data": {
      "text/html": [
       "<div>\n",
       "<style scoped>\n",
       "    .dataframe tbody tr th:only-of-type {\n",
       "        vertical-align: middle;\n",
       "    }\n",
       "\n",
       "    .dataframe tbody tr th {\n",
       "        vertical-align: top;\n",
       "    }\n",
       "\n",
       "    .dataframe thead th {\n",
       "        text-align: right;\n",
       "    }\n",
       "</style>\n",
       "<table border=\"1\" class=\"dataframe\">\n",
       "  <thead>\n",
       "    <tr style=\"text-align: right;\">\n",
       "      <th></th>\n",
       "      <th>Compound</th>\n",
       "      <th>Price</th>\n",
       "    </tr>\n",
       "    <tr>\n",
       "      <th>DateTime</th>\n",
       "      <th></th>\n",
       "      <th></th>\n",
       "    </tr>\n",
       "  </thead>\n",
       "  <tbody>\n",
       "    <tr>\n",
       "      <th>2020-07-01</th>\n",
       "      <td>0.0</td>\n",
       "      <td>144.8</td>\n",
       "    </tr>\n",
       "    <tr>\n",
       "      <th>2020-07-02</th>\n",
       "      <td>0.0</td>\n",
       "      <td>18.0</td>\n",
       "    </tr>\n",
       "    <tr>\n",
       "      <th>2020-07-03</th>\n",
       "      <td>0.0</td>\n",
       "      <td>-67.3</td>\n",
       "    </tr>\n",
       "    <tr>\n",
       "      <th>2020-07-04</th>\n",
       "      <td>0.0</td>\n",
       "      <td>53.4</td>\n",
       "    </tr>\n",
       "    <tr>\n",
       "      <th>2020-07-05</th>\n",
       "      <td>0.0</td>\n",
       "      <td>-258.0</td>\n",
       "    </tr>\n",
       "  </tbody>\n",
       "</table>\n",
       "</div>"
      ],
      "text/plain": [
       "            Compound  Price\n",
       "DateTime                   \n",
       "2020-07-01       0.0  144.8\n",
       "2020-07-02       0.0   18.0\n",
       "2020-07-03       0.0  -67.3\n",
       "2020-07-04       0.0   53.4\n",
       "2020-07-05       0.0 -258.0"
      ]
     },
     "execution_count": 36,
     "metadata": {},
     "output_type": "execute_result"
    }
   ],
   "source": [
    "# Read and prepare data to linear regression model\n",
    "\n",
    "df = pd.read_csv('generated/btc_value_em_tweets_sentimental_score.csv')\n",
    "df.columns = ['DateTime','Compound','Positive', 'Neutral', 'Negative', 'Price']\n",
    "df = df[['DateTime','Negative','Neutral','Positive','Compound','Price']]\n",
    "df = df[['DateTime', 'Compound','Price']]\n",
    "df = df.sort_values('DateTime')\n",
    "df.set_index('DateTime',inplace=True)\n",
    "\n",
    "df.info()\n",
    "df.head()"
   ]
  },
  {
   "cell_type": "code",
   "execution_count": 37,
   "metadata": {},
   "outputs": [
    {
     "data": {
      "image/png": "[encoded data removed]",
      "text/plain": [
       "<Figure size 432x288 with 2 Axes>"
      ]
     },
     "metadata": {
      "needs_background": "light"
     },
     "output_type": "display_data"
    }
   ],
   "source": [
    "# Plot the time series of all features\n",
    "\n",
    "columns_groups = [0,1]\n",
    "\n",
    "cols = df.columns.tolist()\n",
    "cols = cols[-1:] + cols[:-1]\n",
    "df = df[cols]\n",
    "\n",
    "i = 1\n",
    "plt.figure()\n",
    "for column_group in columns_groups:\n",
    "    plt.subplot(len(columns_groups), 1, i)\n",
    "    plt.plot(df.values[:, column_group])\n",
    "    plt.title(df.columns[column_group], y=0.5, loc='center')\n",
    "    i += 1\n",
    "plt.show()"
   ]
  },
  {
   "cell_type": "code",
   "execution_count": 38,
   "metadata": {},
   "outputs": [
    {
     "data": {
      "text/html": [
       "<div>\n",
       "<style scoped>\n",
       "    .dataframe tbody tr th:only-of-type {\n",
       "        vertical-align: middle;\n",
       "    }\n",
       "\n",
       "    .dataframe tbody tr th {\n",
       "        vertical-align: top;\n",
       "    }\n",
       "\n",
       "    .dataframe thead th {\n",
       "        text-align: right;\n",
       "    }\n",
       "</style>\n",
       "<table border=\"1\" class=\"dataframe\">\n",
       "  <thead>\n",
       "    <tr style=\"text-align: right;\">\n",
       "      <th></th>\n",
       "      <th>var1(t-1)</th>\n",
       "      <th>var2(t-1)</th>\n",
       "      <th>var1(t)</th>\n",
       "    </tr>\n",
       "  </thead>\n",
       "  <tbody>\n",
       "    <tr>\n",
       "      <th>1</th>\n",
       "      <td>144.8</td>\n",
       "      <td>0.0</td>\n",
       "      <td>18.0</td>\n",
       "    </tr>\n",
       "    <tr>\n",
       "      <th>2</th>\n",
       "      <td>18.0</td>\n",
       "      <td>0.0</td>\n",
       "      <td>-67.3</td>\n",
       "    </tr>\n",
       "    <tr>\n",
       "      <th>3</th>\n",
       "      <td>-67.3</td>\n",
       "      <td>0.0</td>\n",
       "      <td>53.4</td>\n",
       "    </tr>\n",
       "    <tr>\n",
       "      <th>4</th>\n",
       "      <td>53.4</td>\n",
       "      <td>0.0</td>\n",
       "      <td>-258.0</td>\n",
       "    </tr>\n",
       "    <tr>\n",
       "      <th>5</th>\n",
       "      <td>-258.0</td>\n",
       "      <td>0.0</td>\n",
       "      <td>83.0</td>\n",
       "    </tr>\n",
       "  </tbody>\n",
       "</table>\n",
       "</div>"
      ],
      "text/plain": [
       "   var1(t-1)  var2(t-1)  var1(t)\n",
       "1      144.8        0.0     18.0\n",
       "2       18.0        0.0    -67.3\n",
       "3      -67.3        0.0     53.4\n",
       "4       53.4        0.0   -258.0\n",
       "5     -258.0        0.0     83.0"
      ]
     },
     "execution_count": 38,
     "metadata": {},
     "output_type": "execute_result"
    }
   ],
   "source": [
    "# Reframe the data so we can apply supervised learning techniques in a time series\n",
    "\n",
    "n_days = 1\n",
    "n_features = 1\n",
    "n_obs = n_days * n_features\n",
    "\n",
    "reframed = series_to_supervised(df.values, n_days, 1)\n",
    "reframed = reframed.drop(reframed.columns[-1:], axis=1)\n",
    "\n",
    "reframed.head()"
   ]
  },
  {
   "cell_type": "code",
   "execution_count": 39,
   "metadata": {},
   "outputs": [
    {
     "data": {
      "image/png": "[encoded data removed]",
      "text/plain": [
       "<Figure size 432x288 with 2 Axes>"
      ]
     },
     "metadata": {
      "needs_background": "light"
     },
     "output_type": "display_data"
    }
   ],
   "source": [
    "# Plot correlation matrix\n",
    "\n",
    "correlation = reframed.corr()\n",
    "sns.heatmap(correlation, vmax=1, square=True,annot=True,cmap='viridis')\n",
    "plt.title('Correlation between different features')\n",
    "plt.show();"
   ]
  },
  {
   "cell_type": "code",
   "execution_count": 54,
   "metadata": {
    "scrolled": true
   },
   "outputs": [
    {
     "data": {
      "text/plain": [
       "  Summary of Regression Results   \n",
       "==================================\n",
       "Model:                         VAR\n",
       "Method:                        OLS\n",
       "Date:           Tue, 27, Jul, 2021\n",
       "Time:                     17:04:39\n",
       "--------------------------------------------------------------------\n",
       "No. of Equations:         3.00000    BIC:                   -6.26986\n",
       "Nobs:                     16.0000    HQIC:                  -6.81963\n",
       "Log likelihood:          -1.31467    FPE:                 0.00109520\n",
       "AIC:                     -6.84930    Det(Omega_mle):     0.000560741\n",
       "--------------------------------------------------------------------\n",
       "Results for equation y1\n",
       "========================================================================\n",
       "           coefficient       std. error           t-stat            prob\n",
       "------------------------------------------------------------------------\n",
       "const         0.373988         0.328723            1.138           0.255\n",
       "L1.y1         0.171197         0.299763            0.571           0.568\n",
       "L1.y2         0.148111         0.237370            0.624           0.533\n",
       "L1.y3         0.169836         0.283216            0.600           0.549\n",
       "========================================================================\n",
       "\n",
       "Results for equation y2\n",
       "========================================================================\n",
       "           coefficient       std. error           t-stat            prob\n",
       "------------------------------------------------------------------------\n",
       "const         0.276136         0.367290            0.752           0.452\n",
       "L1.y1         0.641764         0.334933            1.916           0.055\n",
       "L1.y2        -0.320718         0.265219           -1.209           0.227\n",
       "L1.y3        -0.246010         0.316444           -0.777           0.437\n",
       "========================================================================\n",
       "\n",
       "Results for equation y3\n",
       "========================================================================\n",
       "           coefficient       std. error           t-stat            prob\n",
       "------------------------------------------------------------------------\n",
       "const         0.727689         0.360402            2.019           0.043\n",
       "L1.y1        -0.240627         0.328651           -0.732           0.464\n",
       "L1.y2         0.044557         0.260245            0.171           0.864\n",
       "L1.y3        -0.039351         0.310509           -0.127           0.899\n",
       "========================================================================\n",
       "\n",
       "Correlation matrix of residuals\n",
       "            y1        y2        y3\n",
       "y1    1.000000  0.006511 -0.347619\n",
       "y2    0.006511  1.000000 -0.136972\n",
       "y3   -0.347619 -0.136972  1.000000\n",
       "\n"
      ]
     },
     "execution_count": 54,
     "metadata": {},
     "output_type": "execute_result"
    }
   ],
   "source": [
    "# Create the varmax model, train it and plot the diagnostics\n",
    "\n",
    "data = reframed.values\n",
    "\n",
    "data_df = pd.DataFrame(data=data, columns=['var1(t-1)','var2(t-1)','var1(t)'])\n",
    "\n",
    "non_zero_data = data_df[data_df['var2(t-1)']!=0]\n",
    "\n",
    "\n",
    "scaler = MinMaxScaler(feature_range=(0, 1))\n",
    "scaled = scaler.fit_transform(non_zero_data)\n",
    "\n",
    "model = VAR(scaled)\n",
    "model_fit = model.fit()\n",
    "model_fit.summary()"
   ]
  },
  {
   "cell_type": "code",
   "execution_count": 58,
   "metadata": {},
   "outputs": [],
   "source": [
    "\n",
    "predictions = model_fit.forecast(y=scaled, steps=len(scaled))\n",
    "inv_predictions = scaler.inverse_transform(predictions)"
   ]
  },
  {
   "cell_type": "code",
   "execution_count": 59,
   "metadata": {},
   "outputs": [
    {
     "data": {
      "image/png": "[encoded data removed]",
      "text/plain": [
       "<Figure size 432x288 with 1 Axes>"
      ]
     },
     "metadata": {
      "needs_background": "light"
     },
     "output_type": "display_data"
    }
   ],
   "source": [
    "# Plot Results\n",
    "\n",
    "plt.plot(non_zero_data['var1(t)'].values, label=\"Predictions\")\n",
    "plt.plot(inv_predictions[:, 2], label=\"Predictions\")\n",
    "plt.title(\"Predictions graph\")\n",
    "plt.legend(loc=\"upper left\")\n",
    "\n",
    "plt.show()"
   ]
  },
  {
   "cell_type": "code",
   "execution_count": null,
   "metadata": {},
   "outputs": [],
   "source": [
    "# Print the results\n",
    "\n",
    "mse = mean_squared_error(inv_y, inv_predictions)\n",
    "r2 = r2_score(inv_y, inv_predictions)\n",
    "rmse = np.sqrt(mse)\n",
    "\n",
    "print(\"Coefficient of Determination  (R2):\", r2)\n",
    "print(\"Mean Squared Error (MSE):\", mse)\n",
    "print(\"Root Mean Square Error: %.3f\" % rmse)"
   ]
  },
  {
   "cell_type": "code",
   "execution_count": null,
   "metadata": {
    "collapsed": true
   },
   "outputs": [],
   "source": [
    "# Save the predictions data to csv file\n",
    "\n",
    "df_sol = pd.DataFrame({'forecast':inv_predictions,'actual':inv_y})\n",
    "df_sol.to_csv('generated/predictions_sv_lstm.csv')"
   ]
  },
  {
   "cell_type": "code",
   "execution_count": null,
   "metadata": {},
   "outputs": [],
   "source": []
  }
 ],
 "metadata": {
  "interpreter": {
   "hash": "77642b1de94b3ecd25ac7cee94ae6d4cd14a15f998248e7a28e862a045f813e3"
  },
  "kernelspec": {
   "display_name": "Python 3.6.9 64-bit ('tcc_puc': venv)",
   "language": "python",
   "name": "python369jvsc74a57bd077642b1de94b3ecd25ac7cee94ae6d4cd14a15f998248e7a28e862a045f813e3"
  },
  "language_info": {
   "codemirror_mode": {
    "name": "ipython",
    "version": 3
   },
   "file_extension": ".py",
   "mimetype": "text/x-python",
   "name": "python",
   "nbconvert_exporter": "python",
   "pygments_lexer": "ipython3",
   "version": "3.6.9"
  }
 },
 "nbformat": 4,
 "nbformat_minor": 2
}