{
 "metadata": {
  "language_info": {
   "codemirror_mode": {
    "name": "ipython",
    "version": 3
   },
   "file_extension": ".py",
   "mimetype": "text/x-python",
   "name": "python",
   "nbconvert_exporter": "python",
   "pygments_lexer": "ipython3",
   "version": "3.6.9"
  },
  "orig_nbformat": 4,
  "kernelspec": {
   "name": "python3",
   "display_name": "Python 3.6.9 64-bit ('tcc_puc': venv)"
  },
  "interpreter": {
   "hash": "77642b1de94b3ecd25ac7cee94ae6d4cd14a15f998248e7a28e862a045f813e3"
  }
 },
 "nbformat": 4,
 "nbformat_minor": 2,
 "cells": [
  {
   "cell_type": "code",
   "execution_count": 1,
   "metadata": {},
   "outputs": [],
   "source": [
    "import glob\n",
    "import os\n",
    "import pandas as pd\n",
    "import re\n",
    "import numpy as np\n",
    "import string\n",
    "from sklearn.preprocessing import minmax_scale\n",
    "from nltk.sentiment.vader import SentimentIntensityAnalyzer\n",
    "import nltk\n",
    "from pprint import pprint"
   ]
  },
  {
   "cell_type": "code",
   "execution_count": 2,
   "metadata": {},
   "outputs": [],
   "source": [
    "# Reading and normalizing csv containing the btc historial prices\n",
    "\n",
    "btc_df = pd.read_csv(\"Bitcoin Historical Data - Investing.com.csv\", usecols = ['Date','Price'])\n",
    "btc_df['Date'] = pd.to_datetime(btc_df['Date'])\n",
    "btc_df['Date'] = btc_df['Date'].dt.normalize()\n",
    "btc_df = btc_df.reset_index().set_index('Date')\n",
    "btc_df = btc_df.drop(['index'], axis=1)\n",
    "btc_df['Price'] = btc_df['Price'].str.replace(',', '')"
   ]
  },
  {
   "cell_type": "code",
   "execution_count": 3,
   "metadata": {},
   "outputs": [],
   "source": [
    "# Merging the btc historical price data with the sentimental analisys data\n",
    "\n",
    "df = pd.read_csv(\"btc_em_sentimental_analysis.csv\", index_col='Date')\n",
    "df.index = pd.to_datetime(df.index)\n",
    "df.index = df.index.tz_localize(None)\n",
    "btc_df.index = btc_df.index.tz_localize(None)\n",
    "merged = pd.merge(df, btc_df, on = ['Date'], how = 'outer')"
   ]
  },
  {
   "cell_type": "code",
   "execution_count": 4,
   "metadata": {},
   "outputs": [],
   "source": [
    "# Creating final csv file with Date, Score and Price columns\n",
    "\n",
    "merged['Score'] = merged['Score'].fillna(0)\n",
    "merged['Score'] = pd.to_numeric(merged['Score'])\n",
    "merged['PositiveScore'] = merged['PositiveScore'].fillna(0)\n",
    "merged['PositiveScore'] = pd.to_numeric(merged['PositiveScore'])\n",
    "merged['NeutralScore'] = merged['NeutralScore'].fillna(0)\n",
    "merged['NeutralScore'] = pd.to_numeric(merged['NeutralScore'])\n",
    "merged['NegativeScore'] = merged['NegativeScore'].fillna(0)\n",
    "merged['NegativeScore'] = pd.to_numeric(merged['NegativeScore'])\n",
    "merged['Price'] = pd.to_numeric(merged['Price'])\n",
    "merged.to_csv('btc_value_em_tweets_sentimental_score.csv')"
   ]
  },
  {
   "cell_type": "code",
   "execution_count": 5,
   "metadata": {},
   "outputs": [
    {
     "output_type": "execute_result",
     "data": {
      "text/plain": [
       "             Score  PositiveScore  NeutralScore  NegativeScore    Price\n",
       "Date                                                                   \n",
       "2021-06-13  0.8689          0.226         0.774          0.000  39022.9\n",
       "2021-06-04 -0.4215          0.000         0.517          0.483  36851.3\n",
       "2021-05-22  0.4404          0.304         0.552          0.144  37448.3\n",
       "2021-05-11  0.4404          0.438         0.562          0.000  56695.7\n",
       "2021-05-07  0.5859          0.444         0.556          0.000  57337.2"
      ],
      "text/html": "<div>\n<style scoped>\n    .dataframe tbody tr th:only-of-type {\n        vertical-align: middle;\n    }\n\n    .dataframe tbody tr th {\n        vertical-align: top;\n    }\n\n    .dataframe thead th {\n        text-align: right;\n    }\n</style>\n<table border=\"1\" class=\"dataframe\">\n  <thead>\n    <tr style=\"text-align: right;\">\n      <th></th>\n      <th>Score</th>\n      <th>PositiveScore</th>\n      <th>NeutralScore</th>\n      <th>NegativeScore</th>\n      <th>Price</th>\n    </tr>\n    <tr>\n      <th>Date</th>\n      <th></th>\n      <th></th>\n      <th></th>\n      <th></th>\n      <th></th>\n    </tr>\n  </thead>\n  <tbody>\n    <tr>\n      <th>2021-06-13</th>\n      <td>0.8689</td>\n      <td>0.226</td>\n      <td>0.774</td>\n      <td>0.000</td>\n      <td>39022.9</td>\n    </tr>\n    <tr>\n      <th>2021-06-04</th>\n      <td>-0.4215</td>\n      <td>0.000</td>\n      <td>0.517</td>\n      <td>0.483</td>\n      <td>36851.3</td>\n    </tr>\n    <tr>\n      <th>2021-05-22</th>\n      <td>0.4404</td>\n      <td>0.304</td>\n      <td>0.552</td>\n      <td>0.144</td>\n      <td>37448.3</td>\n    </tr>\n    <tr>\n      <th>2021-05-11</th>\n      <td>0.4404</td>\n      <td>0.438</td>\n      <td>0.562</td>\n      <td>0.000</td>\n      <td>56695.7</td>\n    </tr>\n    <tr>\n      <th>2021-05-07</th>\n      <td>0.5859</td>\n      <td>0.444</td>\n      <td>0.556</td>\n      <td>0.000</td>\n      <td>57337.2</td>\n    </tr>\n  </tbody>\n</table>\n</div>"
     },
     "metadata": {},
     "execution_count": 5
    }
   ],
   "source": [
    "merged.head()"
   ]
  },
  {
   "cell_type": "code",
   "execution_count": null,
   "metadata": {},
   "outputs": [],
   "source": []
  }
 ]
}