{
 "cells": [
  {
   "cell_type": "code",
   "execution_count": 4,
   "source": [
    "from bs4 import BeautifulSoup\n",
    "import requests\n",
    "import multiprocessing as mp\n",
    "\n",
    "def getPage(url):\n",
    "    html = requests.get(url).content\n",
    "    soup = BeautifulSoup(html, 'html.parser')\n",
    "    links = soup.findAll('a')\n",
    "    return list(dict.fromkeys([link.get('href') for link in links if link.get('title') != None and link.get('href') != None and str(link.get('title')).startswith('#Verificamos:')]))"
   ],
   "outputs": [],
   "metadata": {}
  },
  {
   "cell_type": "code",
   "execution_count": 11,
   "source": [
    "base_url = \"https://piaui.folha.uol.com.br/lupa/page/\"\n",
    "pool = mp.Pool(mp.cpu_count())\n",
    "\n",
    "v_links = []\n",
    "pages = []\n",
    "for i in range(1, 366):\n",
    "    pages.append(base_url + str(i) + \"/\")\n",
    "\n",
    "results = [pool.apply(getPage, args=((p,))) for p in pages]\n",
    "pool.close()  \n",
    "[v_links.extend(r) for r in results]\n",
    "v_links = list(dict.fromkeys(v_links))"
   ],
   "outputs": [],
   "metadata": {}
  },
  {
   "cell_type": "code",
   "execution_count": 10,
   "source": [
    "import pandas as pd\n",
    "df = pd.DataFrame(v_links)\n",
    "df.to_csv('generated/piaui_verified_links.csv', index=False)"
   ],
   "outputs": [],
   "metadata": {}
  }
 ],
 "metadata": {
  "orig_nbformat": 4,
  "language_info": {
   "name": "python",
   "version": "3.6.9",
   "mimetype": "text/x-python",
   "codemirror_mode": {
    "name": "ipython",
    "version": 3
   },
   "pygments_lexer": "ipython3",
   "nbconvert_exporter": "python",
   "file_extension": ".py"
  },
  "kernelspec": {
   "name": "python3",
   "display_name": "Python 3.6.9 64-bit ('tcc_puc_fake_news': venv)"
  },
  "interpreter": {
   "hash": "56536fc7935edbbe82226a59402a07a496c44dd86995a011c54ad0d90e102100"
  }
 },
 "nbformat": 4,
 "nbformat_minor": 2
}