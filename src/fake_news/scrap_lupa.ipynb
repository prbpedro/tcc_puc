{
 "cells": [
  {
   "cell_type": "code",
   "execution_count": 8,
   "source": [
    "from bs4 import BeautifulSoup\n",
    "import requests\n",
    "import multiprocessing as mp\n",
    "import pandas as pd\n",
    "import re\n",
    "from nltk.stem import RSLPStemmer\n",
    "\n",
    "from nltk.corpus import stopwords\n",
    "\n",
    "\n",
    "def getPage(url):\n",
    "    html = requests.get(url).content\n",
    "    soup = BeautifulSoup(html, 'html.parser')\n",
    "    links = soup.findAll('a')\n",
    "    return list(dict.fromkeys([link.get('href') for link in links if link.get('title') != None and link.get('href') != None and str(link.get('title')).startswith('#Verificamos:')]))"
   ],
   "outputs": [],
   "metadata": {}
  },
  {
   "cell_type": "code",
   "execution_count": null,
   "source": [
    "base_url = \"https://piaui.folha.uol.com.br/lupa/page/\"\n",
    "pool = mp.Pool(mp.cpu_count())\n",
    "\n",
    "v_links = []\n",
    "pages = []\n",
    "for i in range(1, 366):\n",
    "    pages.append(base_url + str(i) + \"/\")\n",
    "\n",
    "results = [pool.apply(getPage, args=((p,))) for p in pages]\n",
    "pool.close()  \n",
    "[v_links.extend(r) for r in results]\n",
    "v_links = list(dict.fromkeys(v_links))"
   ],
   "outputs": [],
   "metadata": {}
  },
  {
   "cell_type": "code",
   "execution_count": null,
   "source": [
    "df = pd.DataFrame(v_links)\n",
    "df.to_csv('generated/piaui_verified_links.csv', index=False)"
   ],
   "outputs": [],
   "metadata": {}
  },
  {
   "cell_type": "code",
   "execution_count": null,
   "source": [
    "def get_is_fake_and_text(url): \n",
    "    try:\n",
    "        resp = requests.get(url)\n",
    "        if(resp.status_code != 200):\n",
    "            raise Exception('Error executing http call')\n",
    "\n",
    "        html = resp.content\n",
    "        soup = BeautifulSoup(html, 'html.parser')\n",
    "        div_post_inner = soup.find('div', {'class': 'post-inner'})\n",
    "        div_b_text = div_post_inner.findChildren('div', {'class': 'etiqueta etiqueta-7'})[0].text\n",
    "\n",
    "        is_fake = True\n",
    "        if div_b_text == 'VERDADEIRO':\n",
    "            is_fake = True\n",
    "        elif div_b_text == 'FALSO':  \n",
    "            is_fake = False\n",
    "        else:\n",
    "            raise Exception('Not parseable')\n",
    "\n",
    "        ps = div_post_inner.findAll('p', recursive=False)\n",
    "        p_tag = ps[2].text\n",
    "        return (is_fake, p_tag)\n",
    "    except Exception as e:\n",
    "        print('##### ERROR - ' + str(e))\n",
    "        return (None, None)"
   ],
   "outputs": [],
   "metadata": {}
  },
  {
   "cell_type": "code",
   "execution_count": null,
   "source": [
    "pool = mp.Pool(mp.cpu_count())\n",
    "results_get_fake = [pool.apply(get_is_fake_and_text, args=((p,))) for p in v_links]\n",
    "pool.close()  \n",
    "\n",
    "\n",
    "df = pd.DataFrame(results_get_fake)\n",
    "df.to_csv('generated/results_get_fake.csv', index=False)"
   ],
   "outputs": [],
   "metadata": {}
  },
  {
   "cell_type": "code",
   "execution_count": 12,
   "source": [
    "df = pd.read_csv('generated/results_get_fake.csv')\n",
    "df['1'] = df['1'].astype(str)\n",
    "\n",
    "remove_pontuacao = lambda x:  re.sub(r'[^\\w\\s]', '', x)\n",
    "remove_nao_citacao = lambda x: x if x.startswith('“') else ''\n",
    "remove_quebra_linha = lambda x:  re.sub(r'\\\\n', ' ', x)\n",
    "remove_tabulacao = lambda x:  re.sub(r'\\\\t', ' ', x)\n",
    "remove_multiplos_espacos = lambda x:  re.sub(' +', ' ', x)\n",
    "get_between_markers = lambda x: '' if x.find('”') == -1 else x[x.find('“')+1: x.find('”')]\n",
    "remove_little = lambda x: '' if len(x.split(' ')) < 10 else x\n",
    "df['1']\n",
    "\n",
    "stemmer = RSLPStemmer()\n",
    "stopws = stopwords.words('portuguese')\n",
    "\n",
    "df['1'] = df['1'].map(remove_quebra_linha).map(remove_tabulacao).map(remove_multiplos_espacos).map(remove_nao_citacao).map(get_between_markers).map(remove_little).map(remove_pontuacao)\n",
    "\n",
    "df.replace('FALSO', '', inplace=True)\n",
    "\n",
    "df['1'] = df['1'].str.lower()\n",
    "\n",
    "df['1'] = df['1'].str.normalize('NFKD').str.encode('ascii', errors='ignore').str.decode('utf-8')\n",
    "\n",
    "df['1'] = df['1'].apply(lambda x: ' '.join([word for word in x.split() if word not in (stopws)]))\n",
    "\n",
    "df['1'] = df['1'].str.strip()\n",
    "\n",
    "df.replace('', None, inplace=True)\n",
    "\n",
    "df.drop_duplicates(subset='1', keep='last', inplace=True)\n",
    "df.dropna(inplace=True)\n",
    "df['1'] = df['1'].str.lower()\n",
    "\n",
    "df['1'] = df['1'].str.normalize('NFKD').str.encode('ascii', errors='ignore').str.decode('utf-8')\n",
    "\n",
    "df['1'] = df['1'].apply(lambda x: ' '.join([stemmer.stem(y) for y in x.split(' ')]))\n",
    "\n",
    "df.to_csv('generated/results_get_fake_built.csv', index=False)"
   ],
   "outputs": [],
   "metadata": {}
  }
 ],
 "metadata": {
  "orig_nbformat": 4,
  "language_info": {
   "name": "python",
   "version": "3.6.9",
   "mimetype": "text/x-python",
   "codemirror_mode": {
    "name": "ipython",
    "version": 3
   },
   "pygments_lexer": "ipython3",
   "nbconvert_exporter": "python",
   "file_extension": ".py"
  },
  "kernelspec": {
   "name": "python3",
   "display_name": "Python 3.6.9 64-bit ('tcc_puc_fake_news': venv)"
  },
  "interpreter": {
   "hash": "56536fc7935edbbe82226a59402a07a496c44dd86995a011c54ad0d90e102100"
  }
 },
 "nbformat": 4,
 "nbformat_minor": 2
}