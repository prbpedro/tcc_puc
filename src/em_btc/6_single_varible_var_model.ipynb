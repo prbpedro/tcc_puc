{
 "cells": [
  {
   "cell_type": "code",
   "execution_count": 1,
   "source": [
    "import pandas as pd\n",
    "import matplotlib.pyplot as plt\n",
    "import numpy as np\n",
    "import seaborn as sns\n",
    "from sklearn.metrics import mean_squared_error\n",
    "from sklearn.preprocessing import MinMaxScaler\n",
    "from statsmodels.tsa.vector_ar.var_model import VAR\n",
    "from sklearn.utils import shuffle\n",
    "from sklearn.metrics import r2_score\n",
    "from time_series_service import series_to_supervised"
   ],
   "outputs": [],
   "metadata": {}
  },
  {
   "cell_type": "code",
   "execution_count": 2,
   "source": [
    "# Read and prepare data to linear regression model\n",
    "\n",
    "df = pd.read_csv('generated/btc_value_em_tweets_sentimental_score.csv')\n",
    "df.columns = ['DateTime','Compound','Positive', 'Neutral', 'Negative', 'Price']\n",
    "df = df[['DateTime','Negative','Neutral','Positive','Compound','Price']]\n",
    "df = df[['DateTime', 'Compound','Price']]\n",
    "df = df.sort_values('DateTime')\n",
    "df.set_index('DateTime',inplace=True)\n",
    "\n",
    "df.info()\n",
    "df.head()"
   ],
   "outputs": [
    {
     "output_type": "stream",
     "name": "stdout",
     "text": [
      "<class 'pandas.core.frame.DataFrame'>\n",
      "Index: 361 entries, 2020-07-01 to 2021-06-26\n",
      "Data columns (total 2 columns):\n",
      " #   Column    Non-Null Count  Dtype  \n",
      "---  ------    --------------  -----  \n",
      " 0   Compound  361 non-null    float64\n",
      " 1   Price     360 non-null    float64\n",
      "dtypes: float64(2)\n",
      "memory usage: 8.5+ KB\n"
     ]
    },
    {
     "output_type": "execute_result",
     "data": {
      "text/html": [
       "<div>\n",
       "<style scoped>\n",
       "    .dataframe tbody tr th:only-of-type {\n",
       "        vertical-align: middle;\n",
       "    }\n",
       "\n",
       "    .dataframe tbody tr th {\n",
       "        vertical-align: top;\n",
       "    }\n",
       "\n",
       "    .dataframe thead th {\n",
       "        text-align: right;\n",
       "    }\n",
       "</style>\n",
       "<table border=\"1\" class=\"dataframe\">\n",
       "  <thead>\n",
       "    <tr style=\"text-align: right;\">\n",
       "      <th></th>\n",
       "      <th>Compound</th>\n",
       "      <th>Price</th>\n",
       "    </tr>\n",
       "    <tr>\n",
       "      <th>DateTime</th>\n",
       "      <th></th>\n",
       "      <th></th>\n",
       "    </tr>\n",
       "  </thead>\n",
       "  <tbody>\n",
       "    <tr>\n",
       "      <th>2020-07-01</th>\n",
       "      <td>0.0</td>\n",
       "      <td>144.8</td>\n",
       "    </tr>\n",
       "    <tr>\n",
       "      <th>2020-07-02</th>\n",
       "      <td>0.0</td>\n",
       "      <td>18.0</td>\n",
       "    </tr>\n",
       "    <tr>\n",
       "      <th>2020-07-03</th>\n",
       "      <td>0.0</td>\n",
       "      <td>-67.3</td>\n",
       "    </tr>\n",
       "    <tr>\n",
       "      <th>2020-07-04</th>\n",
       "      <td>0.0</td>\n",
       "      <td>53.4</td>\n",
       "    </tr>\n",
       "    <tr>\n",
       "      <th>2020-07-05</th>\n",
       "      <td>0.0</td>\n",
       "      <td>-258.0</td>\n",
       "    </tr>\n",
       "  </tbody>\n",
       "</table>\n",
       "</div>"
      ],
      "text/plain": [
       "            Compound  Price\n",
       "DateTime                   \n",
       "2020-07-01       0.0  144.8\n",
       "2020-07-02       0.0   18.0\n",
       "2020-07-03       0.0  -67.3\n",
       "2020-07-04       0.0   53.4\n",
       "2020-07-05       0.0 -258.0"
      ]
     },
     "metadata": {},
     "execution_count": 2
    }
   ],
   "metadata": {}
  },
  {
   "cell_type": "code",
   "execution_count": 3,
   "source": [
    "# Plot the time series of all features\n",
    "\n",
    "columns_groups = [0,1]\n",
    "\n",
    "cols = df.columns.tolist()\n",
    "cols = cols[-1:] + cols[:-1]\n",
    "df = df[cols]\n",
    "\n",
    "i = 1\n",
    "plt.figure()\n",
    "for column_group in columns_groups:\n",
    "    plt.subplot(len(columns_groups), 1, i)\n",
    "    plt.plot(df.values[:, column_group])\n",
    "    plt.title(df.columns[column_group], y=0.5, loc='center')\n",
    "    i += 1\n",
    "plt.show()"
   ],
   "outputs": [
    {
     "output_type": "display_data",
     "data": {
      "image/png": "[encoded data removed]",
      "text/plain": [
       "<Figure size 432x288 with 2 Axes>"
      ]
     },
     "metadata": {
      "needs_background": "light"
     }
    }
   ],
   "metadata": {}
  },
  {
   "cell_type": "code",
   "execution_count": 4,
   "source": [
    "# Reframe the data so we can apply supervised learning techniques in a time series\n",
    "\n",
    "n_days = 1\n",
    "n_features = 1\n",
    "n_obs = n_days * n_features\n",
    "\n",
    "reframed = series_to_supervised(df.values, n_days, 1)\n",
    "reframed = reframed.drop(reframed.columns[-1:], axis=1)\n",
    "\n",
    "reframed.head()"
   ],
   "outputs": [
    {
     "output_type": "execute_result",
     "data": {
      "text/html": [
       "<div>\n",
       "<style scoped>\n",
       "    .dataframe tbody tr th:only-of-type {\n",
       "        vertical-align: middle;\n",
       "    }\n",
       "\n",
       "    .dataframe tbody tr th {\n",
       "        vertical-align: top;\n",
       "    }\n",
       "\n",
       "    .dataframe thead th {\n",
       "        text-align: right;\n",
       "    }\n",
       "</style>\n",
       "<table border=\"1\" class=\"dataframe\">\n",
       "  <thead>\n",
       "    <tr style=\"text-align: right;\">\n",
       "      <th></th>\n",
       "      <th>var1(t-1)</th>\n",
       "      <th>var2(t-1)</th>\n",
       "      <th>var1(t)</th>\n",
       "    </tr>\n",
       "  </thead>\n",
       "  <tbody>\n",
       "    <tr>\n",
       "      <th>1</th>\n",
       "      <td>144.8</td>\n",
       "      <td>0.0</td>\n",
       "      <td>18.0</td>\n",
       "    </tr>\n",
       "    <tr>\n",
       "      <th>2</th>\n",
       "      <td>18.0</td>\n",
       "      <td>0.0</td>\n",
       "      <td>-67.3</td>\n",
       "    </tr>\n",
       "    <tr>\n",
       "      <th>3</th>\n",
       "      <td>-67.3</td>\n",
       "      <td>0.0</td>\n",
       "      <td>53.4</td>\n",
       "    </tr>\n",
       "    <tr>\n",
       "      <th>4</th>\n",
       "      <td>53.4</td>\n",
       "      <td>0.0</td>\n",
       "      <td>-258.0</td>\n",
       "    </tr>\n",
       "    <tr>\n",
       "      <th>5</th>\n",
       "      <td>-258.0</td>\n",
       "      <td>0.0</td>\n",
       "      <td>83.0</td>\n",
       "    </tr>\n",
       "  </tbody>\n",
       "</table>\n",
       "</div>"
      ],
      "text/plain": [
       "   var1(t-1)  var2(t-1)  var1(t)\n",
       "1      144.8        0.0     18.0\n",
       "2       18.0        0.0    -67.3\n",
       "3      -67.3        0.0     53.4\n",
       "4       53.4        0.0   -258.0\n",
       "5     -258.0        0.0     83.0"
      ]
     },
     "metadata": {},
     "execution_count": 4
    }
   ],
   "metadata": {}
  },
  {
   "cell_type": "code",
   "execution_count": 5,
   "source": [
    "# Plot correlation matrix\n",
    "\n",
    "correlation = reframed.corr()\n",
    "sns.heatmap(correlation, vmax=1, square=True,annot=True,cmap='viridis')\n",
    "plt.title('Correlation between different features')\n",
    "plt.show();"
   ],
   "outputs": [
    {
     "output_type": "display_data",
     "data": {
      "image/png": "[encoded data removed]",
      "text/plain": [
       "<Figure size 432x288 with 2 Axes>"
      ]
     },
     "metadata": {
      "needs_background": "light"
     }
    }
   ],
   "metadata": {}
  },
  {
   "cell_type": "code",
   "execution_count": 6,
   "source": [
    "# Split train and test data\n",
    "\n",
    "data = reframed.values\n",
    "\n",
    "data_df = pd.DataFrame(data=data, columns=['var1(t-1)','var2(t-1)','var1(t)'])\n",
    "\n",
    "train_size = 0.79\n",
    "n_train_days = int(len(data_df)*train_size)\n",
    "\n",
    "df_train, df_test = data_df[0:n_train_days], data_df[n_train_days:]"
   ],
   "outputs": [],
   "metadata": {}
  },
  {
   "cell_type": "code",
   "execution_count": 7,
   "source": [
    "# Create the varmax model, train it and plot the diagnostics\n",
    "\n",
    "scaler = MinMaxScaler(feature_range=(0, 1))\n",
    "scaled = scaler.fit_transform(df_train)\n",
    "\n",
    "model = VAR(scaled)\n",
    "model_fit = model.fit()\n",
    "model_fit.summary()"
   ],
   "outputs": [
    {
     "output_type": "execute_result",
     "data": {
      "text/plain": [
       "  Summary of Regression Results   \n",
       "==================================\n",
       "Model:                         VAR\n",
       "Method:                        OLS\n",
       "Date:           Mon, 04, Oct, 2021\n",
       "Time:                     07:32:45\n",
       "--------------------------------------------------------------------\n",
       "No. of Equations:         3.00000    BIC:                   -82.1452\n",
       "Nobs:                     282.000    HQIC:                  -82.2380\n",
       "Log likelihood:           10415.9    FPE:                1.80919e-36\n",
       "AIC:                     -82.3002    Det(Omega_mle):     1.73434e-36\n",
       "--------------------------------------------------------------------\n",
       "Results for equation y1\n",
       "=============================================================================\n",
       "           coefficient       std. error                t-stat            prob\n",
       "-----------------------------------------------------------------------------\n",
       "const         0.000000         0.000000                 0.207           0.836\n",
       "L1.y1         0.000000         0.000000                 2.212           0.027\n",
       "L1.y2         0.000000         0.000000                 0.329           0.742\n",
       "L1.y3         1.000000         0.000000  6686236514024633.000           0.000\n",
       "=============================================================================\n",
       "\n",
       "Results for equation y2\n",
       "========================================================================\n",
       "           coefficient       std. error           t-stat            prob\n",
       "------------------------------------------------------------------------\n",
       "const         0.488085         0.037581           12.988           0.000\n",
       "L1.y1         0.039272         0.033459            1.174           0.240\n",
       "L1.y2        -0.237734         0.058104           -4.091           0.000\n",
       "L1.y3        -0.071341         0.033239           -2.146           0.032\n",
       "========================================================================\n",
       "\n",
       "Results for equation y3\n",
       "========================================================================\n",
       "           coefficient       std. error           t-stat            prob\n",
       "------------------------------------------------------------------------\n",
       "const         0.489818         0.067433            7.264           0.000\n",
       "L1.y1         0.025516         0.060038            0.425           0.671\n",
       "L1.y2         0.214283         0.104261            2.055           0.040\n",
       "L1.y3        -0.014085         0.059643           -0.236           0.813\n",
       "========================================================================\n",
       "\n",
       "Correlation matrix of residuals\n",
       "            y1        y2        y3\n",
       "y1    1.000000  0.028422  0.050677\n",
       "y2    0.028422  1.000000 -0.038007\n",
       "y3    0.050677 -0.038007  1.000000\n",
       "\n"
      ]
     },
     "metadata": {},
     "execution_count": 7
    }
   ],
   "metadata": {
    "scrolled": true
   }
  },
  {
   "cell_type": "code",
   "execution_count": 19,
   "source": [
    "\n",
    "predictions = model_fit.forecast(y=scaled, steps=len(data_df))\n",
    "inv_predictions = scaler.inverse_transform(predictions)"
   ],
   "outputs": [],
   "metadata": {}
  },
  {
   "cell_type": "code",
   "execution_count": 20,
   "source": [
    "# Plot Results\n",
    "\n",
    "plt.plot(data_df[n_train_days:]['var1(t)'].values, label=\"True values\")\n",
    "plt.plot(inv_predictions[n_train_days:, 2], label=\"Predictions\")\n",
    "plt.title(\"Predictions graph\")\n",
    "plt.legend(loc=\"upper left\")\n",
    "\n",
    "plt.show()"
   ],
   "outputs": [
    {
     "output_type": "display_data",
     "data": {
      "image/png": "[encoded data removed]",
      "text/plain": [
       "<Figure size 432x288 with 1 Axes>"
      ]
     },
     "metadata": {
      "needs_background": "light"
     }
    }
   ],
   "metadata": {}
  },
  {
   "cell_type": "code",
   "execution_count": 23,
   "source": [
    "# Print the results\n",
    "\n",
    "mse = mean_squared_error(data_df['var1(t)'].values, inv_predictions[:, 2])\n",
    "r2 = r2_score(data_df['var1(t)'].values, inv_predictions[:, 2])\n",
    "rmse = np.sqrt(mse)\n",
    "\n",
    "print(\"Coefficient of Determination  (R2):\", r2)\n",
    "print(\"Mean Squared Error (MSE):\", mse)\n",
    "print(\"Root Mean Square Error: %.3f\" % rmse)"
   ],
   "outputs": [
    {
     "output_type": "stream",
     "name": "stdout",
     "text": [
      "Coefficient of Determination  (R2): -0.006054540232861116\n",
      "Mean Squared Error (MSE): 2370407.262662336\n",
      "Root Mean Square Error: 1539.613\n"
     ]
    }
   ],
   "metadata": {}
  },
  {
   "cell_type": "code",
   "execution_count": 25,
   "source": [
    "# Save the predictions data to csv file\n",
    "\n",
    "df_sol = pd.DataFrame({'forecast':inv_predictions[:,2],'actual':data_df['var1(t)'].values})\n",
    "df_sol.to_csv('generated/predictions_sv_var.csv')"
   ],
   "outputs": [],
   "metadata": {
    "collapsed": true
   }
  }
 ],
 "metadata": {
  "interpreter": {
   "hash": "77642b1de94b3ecd25ac7cee94ae6d4cd14a15f998248e7a28e862a045f813e3"
  },
  "kernelspec": {
   "name": "python3",
   "display_name": "Python 3.6.9 64-bit ('tcc_puc': venv)"
  },
  "language_info": {
   "name": "python",
   "version": "3.6.9",
   "mimetype": "text/x-python",
   "codemirror_mode": {
    "name": "ipython",
    "version": 3
   },
   "pygments_lexer": "ipython3",
   "nbconvert_exporter": "python",
   "file_extension": ".py"
  }
 },
 "nbformat": 4,
 "nbformat_minor": 2
}