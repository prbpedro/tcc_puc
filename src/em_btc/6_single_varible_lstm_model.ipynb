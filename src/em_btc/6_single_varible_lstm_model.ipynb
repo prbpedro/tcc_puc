{
 "cells": [
  {
   "cell_type": "code",
   "execution_count": 1,
   "metadata": {},
   "outputs": [],
   "source": [
    "import pandas as pd\n",
    "import matplotlib.pyplot as plt\n",
    "import numpy as np\n",
    "import seaborn as sns\n",
    "from sklearn.metrics import mean_squared_error\n",
    "from sklearn.preprocessing import MinMaxScaler\n",
    "import tensorflow\n",
    "from tensorflow.keras import Sequential\n",
    "from tensorflow.keras.layers import Dense\n",
    "from tensorflow.keras.layers import LSTM\n",
    "from sklearn.utils import shuffle\n",
    "from sklearn.metrics import r2_score\n",
    "from time_series_service import series_to_supervised"
   ]
  },
  {
   "cell_type": "code",
   "execution_count": 2,
   "metadata": {},
   "outputs": [
    {
     "name": "stdout",
     "output_type": "stream",
     "text": [
      "<class 'pandas.core.frame.DataFrame'>\n",
      "Index: 361 entries, 2020-07-01 to 2021-06-26\n",
      "Data columns (total 2 columns):\n",
      " #   Column    Non-Null Count  Dtype  \n",
      "---  ------    --------------  -----  \n",
      " 0   Compound  361 non-null    float64\n",
      " 1   Price     360 non-null    float64\n",
      "dtypes: float64(2)\n",
      "memory usage: 8.5+ KB\n"
     ]
    },
    {
     "data": {
      "text/html": [
       "<div>\n",
       "<style scoped>\n",
       "    .dataframe tbody tr th:only-of-type {\n",
       "        vertical-align: middle;\n",
       "    }\n",
       "\n",
       "    .dataframe tbody tr th {\n",
       "        vertical-align: top;\n",
       "    }\n",
       "\n",
       "    .dataframe thead th {\n",
       "        text-align: right;\n",
       "    }\n",
       "</style>\n",
       "<table border=\"1\" class=\"dataframe\">\n",
       "  <thead>\n",
       "    <tr style=\"text-align: right;\">\n",
       "      <th></th>\n",
       "      <th>Compound</th>\n",
       "      <th>Price</th>\n",
       "    </tr>\n",
       "    <tr>\n",
       "      <th>DateTime</th>\n",
       "      <th></th>\n",
       "      <th></th>\n",
       "    </tr>\n",
       "  </thead>\n",
       "  <tbody>\n",
       "    <tr>\n",
       "      <th>2020-07-01</th>\n",
       "      <td>0.0</td>\n",
       "      <td>144.8</td>\n",
       "    </tr>\n",
       "    <tr>\n",
       "      <th>2020-07-02</th>\n",
       "      <td>0.0</td>\n",
       "      <td>18.0</td>\n",
       "    </tr>\n",
       "    <tr>\n",
       "      <th>2020-07-03</th>\n",
       "      <td>0.0</td>\n",
       "      <td>-67.3</td>\n",
       "    </tr>\n",
       "    <tr>\n",
       "      <th>2020-07-04</th>\n",
       "      <td>0.0</td>\n",
       "      <td>53.4</td>\n",
       "    </tr>\n",
       "    <tr>\n",
       "      <th>2020-07-05</th>\n",
       "      <td>0.0</td>\n",
       "      <td>-258.0</td>\n",
       "    </tr>\n",
       "  </tbody>\n",
       "</table>\n",
       "</div>"
      ],
      "text/plain": [
       "            Compound  Price\n",
       "DateTime                   \n",
       "2020-07-01       0.0  144.8\n",
       "2020-07-02       0.0   18.0\n",
       "2020-07-03       0.0  -67.3\n",
       "2020-07-04       0.0   53.4\n",
       "2020-07-05       0.0 -258.0"
      ]
     },
     "execution_count": 2,
     "metadata": {},
     "output_type": "execute_result"
    }
   ],
   "source": [
    "# Read and prepare data to linear regression model\n",
    "\n",
    "df = pd.read_csv('generated/btc_value_em_tweets_sentimental_score.csv')\n",
    "df.columns = ['DateTime','Compound','Positive', 'Neutral', 'Negative', 'Price']\n",
    "df = df[['DateTime','Negative','Neutral','Positive','Compound','Price']]\n",
    "df = df[['DateTime', 'Compound','Price']]\n",
    "df = df.sort_values('DateTime')\n",
    "df.set_index('DateTime',inplace=True)\n",
    "\n",
    "df.info()\n",
    "df.head()"
   ]
  },
  {
   "cell_type": "code",
   "execution_count": 3,
   "metadata": {},
   "outputs": [
    {
     "data": {
      "image/png": "[encoded data removed]",
      "text/plain": [
       "<Figure size 432x288 with 2 Axes>"
      ]
     },
     "metadata": {
      "needs_background": "light"
     },
     "output_type": "display_data"
    }
   ],
   "source": [
    "# Plot the time series of all features\n",
    "\n",
    "columns_groups = [0,1]\n",
    "\n",
    "cols = df.columns.tolist()\n",
    "cols = cols[-1:] + cols[:-1]\n",
    "df = df[cols]\n",
    "\n",
    "i = 1\n",
    "plt.figure()\n",
    "for column_group in columns_groups:\n",
    "    plt.subplot(len(columns_groups), 1, i)\n",
    "    plt.plot(df.values[:, column_group])\n",
    "    plt.title(df.columns[column_group], y=0.5, loc='center')\n",
    "    i += 1\n",
    "plt.show()"
   ]
  },
  {
   "cell_type": "code",
   "execution_count": 4,
   "metadata": {},
   "outputs": [
    {
     "data": {
      "text/html": [
       "<div>\n",
       "<style scoped>\n",
       "    .dataframe tbody tr th:only-of-type {\n",
       "        vertical-align: middle;\n",
       "    }\n",
       "\n",
       "    .dataframe tbody tr th {\n",
       "        vertical-align: top;\n",
       "    }\n",
       "\n",
       "    .dataframe thead th {\n",
       "        text-align: right;\n",
       "    }\n",
       "</style>\n",
       "<table border=\"1\" class=\"dataframe\">\n",
       "  <thead>\n",
       "    <tr style=\"text-align: right;\">\n",
       "      <th></th>\n",
       "      <th>var1(t-1)</th>\n",
       "      <th>var2(t-1)</th>\n",
       "      <th>var1(t)</th>\n",
       "    </tr>\n",
       "  </thead>\n",
       "  <tbody>\n",
       "    <tr>\n",
       "      <th>1</th>\n",
       "      <td>0.517534</td>\n",
       "      <td>0.326643</td>\n",
       "      <td>0.508997</td>\n",
       "    </tr>\n",
       "    <tr>\n",
       "      <th>2</th>\n",
       "      <td>0.508997</td>\n",
       "      <td>0.326643</td>\n",
       "      <td>0.503255</td>\n",
       "    </tr>\n",
       "    <tr>\n",
       "      <th>3</th>\n",
       "      <td>0.503255</td>\n",
       "      <td>0.326643</td>\n",
       "      <td>0.511381</td>\n",
       "    </tr>\n",
       "    <tr>\n",
       "      <th>4</th>\n",
       "      <td>0.511381</td>\n",
       "      <td>0.326643</td>\n",
       "      <td>0.490417</td>\n",
       "    </tr>\n",
       "    <tr>\n",
       "      <th>5</th>\n",
       "      <td>0.490417</td>\n",
       "      <td>0.326643</td>\n",
       "      <td>0.513373</td>\n",
       "    </tr>\n",
       "  </tbody>\n",
       "</table>\n",
       "</div>"
      ],
      "text/plain": [
       "   var1(t-1)  var2(t-1)   var1(t)\n",
       "1   0.517534   0.326643  0.508997\n",
       "2   0.508997   0.326643  0.503255\n",
       "3   0.503255   0.326643  0.511381\n",
       "4   0.511381   0.326643  0.490417\n",
       "5   0.490417   0.326643  0.513373"
      ]
     },
     "execution_count": 4,
     "metadata": {},
     "output_type": "execute_result"
    }
   ],
   "source": [
    "# Reframe the data so we can apply supervised learning techniques in a time series\n",
    "\n",
    "n_days = 1\n",
    "n_features = 1\n",
    "n_obs = n_days * n_features\n",
    "\n",
    "scaler = MinMaxScaler(feature_range=(0, 1))\n",
    "scaled = scaler.fit_transform(df.values)\n",
    "\n",
    "reframed = series_to_supervised(scaled, n_days, 1)\n",
    "reframed = reframed.drop(reframed.columns[-1:], axis=1)\n",
    "\n",
    "reframed.head()"
   ]
  },
  {
   "cell_type": "code",
   "execution_count": 5,
   "metadata": {},
   "outputs": [
    {
     "data": {
      "image/png": "[encoded data removed]",
      "text/plain": [
       "<Figure size 432x288 with 2 Axes>"
      ]
     },
     "metadata": {
      "needs_background": "light"
     },
     "output_type": "display_data"
    }
   ],
   "source": [
    "# Plot correlation matrix\n",
    "\n",
    "correlation = reframed.corr()\n",
    "sns.heatmap(correlation, vmax=1, square=True,annot=True,cmap='viridis')\n",
    "plt.title('Correlation between different features')\n",
    "plt.show();"
   ]
  },
  {
   "cell_type": "code",
   "execution_count": 6,
   "metadata": {},
   "outputs": [
    {
     "name": "stdout",
     "output_type": "stream",
     "text": [
      "(239, 3)\n",
      "(239, 1, 1) (239,) (6, 1, 1) (6,)\n"
     ]
    }
   ],
   "source": [
    "# Split train and test data\n",
    "\n",
    "non_zero_condition = reframed['var2(t-1)'].round(4) != 0.3266\n",
    "\n",
    "zeros_df = reframed[~non_zero_condition]\n",
    "non_zeros_df = reframed[non_zero_condition]\n",
    "\n",
    "zeros_train_size = 0.7\n",
    "non_zeros_train_size = 0.75\n",
    "\n",
    "zeros_n_train_days = int(len(zeros_df)*zeros_train_size)\n",
    "zeros_n_test_days =len(zeros_df) - zeros_n_train_days\n",
    "non_zeros_n_train_days = int(len(non_zeros_df)*non_zeros_train_size)\n",
    "non_zeros_n_test_days = len(non_zeros_df) - non_zeros_n_train_days\n",
    "\n",
    "non_zero_test_step = int(len(non_zeros_df)/non_zeros_n_test_days)\n",
    "zero_test_step = int(len(zeros_df)/zeros_n_test_days)\n",
    "\n",
    "non_zero_test = non_zeros_df[::non_zero_test_step]\n",
    "non_zero_train = pd.merge(non_zeros_df,non_zero_test, indicator=True, how='outer').query('_merge==\"left_only\"').drop('_merge', axis=1)\n",
    "\n",
    "zero_test = zeros_df[::zero_test_step]\n",
    "zero_train = pd.merge(zeros_df,zero_test, indicator=True, how='outer').query('_merge==\"left_only\"').drop('_merge', axis=1)\n",
    "\n",
    "train = shuffle(pd.concat((non_zero_train, zero_train))).values\n",
    "test = shuffle(non_zero_test).values\n",
    "\n",
    "print(train.shape)\n",
    "\n",
    "train_X, train_y = train[:, :n_obs], train[:, 2]\n",
    "test_X, test_y = test[:, :n_obs], test[:, 2]\n",
    "\n",
    "# reshape input to be 3D [samples, timesteps, features]\n",
    "train_X = train_X.reshape((train_X.shape[0], n_days, n_features))\n",
    "test_X = test_X.reshape((test_X.shape[0], n_days, n_features))\n",
    "print(train_X.shape, train_y.shape, test_X.shape, test_y.shape)"
   ]
  },
  {
   "cell_type": "code",
   "execution_count": 7,
   "metadata": {
    "scrolled": true
   },
   "outputs": [
    {
     "name": "stdout",
     "output_type": "stream",
     "text": [
      "Epoch 1/10\n",
      "60/60 - 2s - loss: 0.4690 - val_loss: 0.4181\n",
      "Epoch 2/10\n",
      "60/60 - 0s - loss: 0.3152 - val_loss: 0.2552\n",
      "Epoch 3/10\n",
      "60/60 - 0s - loss: 0.1552 - val_loss: 0.0943\n",
      "Epoch 4/10\n",
      "60/60 - 0s - loss: 0.0687 - val_loss: 0.0962\n",
      "Epoch 5/10\n",
      "60/60 - 0s - loss: 0.0670 - val_loss: 0.0954\n",
      "Epoch 6/10\n",
      "60/60 - 0s - loss: 0.0669 - val_loss: 0.0942\n",
      "Epoch 7/10\n",
      "60/60 - 0s - loss: 0.0667 - val_loss: 0.0930\n",
      "Epoch 8/10\n",
      "60/60 - 0s - loss: 0.0665 - val_loss: 0.0919\n",
      "Epoch 9/10\n",
      "60/60 - 0s - loss: 0.0664 - val_loss: 0.0910\n",
      "Epoch 10/10\n",
      "60/60 - 0s - loss: 0.0662 - val_loss: 0.0899\n"
     ]
    },
    {
     "data": {
      "image/png": "[encoded data removed]",
      "text/plain": [
       "<Figure size 432x288 with 1 Axes>"
      ]
     },
     "metadata": {
      "needs_background": "light"
     },
     "output_type": "display_data"
    }
   ],
   "source": [
    "# Create the LSTM model, train it and plot the value loss\n",
    "\n",
    "model = Sequential()\n",
    "model.add(LSTM(5, input_shape=(train_X.shape[1], train_X.shape[2])))\n",
    "model.add(Dense(1))\n",
    "model.compile(loss='mae', optimizer='adam')\n",
    "\n",
    "history = model.fit(train_X, train_y, epochs=10, batch_size=4, validation_data=(test_X, test_y), verbose=2, shuffle=False)\n",
    "\n",
    "plt.plot(history.history['loss'], label='train')\n",
    "plt.plot(history.history['val_loss'], label='test')\n",
    "plt.legend()\n",
    "plt.show()"
   ]
  },
  {
   "cell_type": "code",
   "execution_count": 8,
   "metadata": {},
   "outputs": [],
   "source": [
    "# Make predictions\n",
    "\n",
    "predictions = model.predict(test_X)\n",
    "test_X = test_X.reshape((test_X.shape[0], n_days * n_features))\n",
    "\n",
    "inv_predictions = np.concatenate((predictions, test_X), axis=1)\n",
    "inv_predictions = scaler.inverse_transform(inv_predictions)\n",
    "inv_predictions = inv_predictions[:,0]\n",
    "\n",
    "test_y = test_y.reshape((len(test_y), 1))\n",
    "inv_y = np.concatenate((test_y, test_X), axis=1)\n",
    "inv_y = scaler.inverse_transform(inv_y)\n",
    "inv_y = inv_y[:,0]"
   ]
  },
  {
   "cell_type": "code",
   "execution_count": 9,
   "metadata": {},
   "outputs": [
    {
     "data": {
      "image/png": "[encoded data removed]",
      "text/plain": [
       "<Figure size 432x288 with 1 Axes>"
      ]
     },
     "metadata": {
      "needs_background": "light"
     },
     "output_type": "display_data"
    }
   ],
   "source": [
    "# Plot Results\n",
    "\n",
    "plt.plot(inv_y, label=\"True values\")\n",
    "plt.plot(inv_predictions, label=\"Predictions\")\n",
    "plt.title(\"Predictions graph\")\n",
    "plt.legend(loc=\"upper left\")\n",
    "\n",
    "plt.show()"
   ]
  },
  {
   "cell_type": "code",
   "execution_count": 10,
   "metadata": {},
   "outputs": [
    {
     "name": "stdout",
     "output_type": "stream",
     "text": [
      "Coefficient of Determination  (R2): -1.4016864307411154\n",
      "Mean Squared Error (MSE): 2349527.618883671\n",
      "Root Mean Square Error: 1532.817\n"
     ]
    }
   ],
   "source": [
    "# Print the results\n",
    "\n",
    "mse = mean_squared_error(inv_y, inv_predictions)\n",
    "r2 = r2_score(inv_y, inv_predictions)\n",
    "rmse = np.sqrt(mse)\n",
    "\n",
    "print(\"Coefficient of Determination  (R2):\", r2)\n",
    "print(\"Mean Squared Error (MSE):\", mse)\n",
    "print(\"Root Mean Square Error: %.3f\" % rmse)"
   ]
  },
  {
   "cell_type": "code",
   "execution_count": 11,
   "metadata": {
    "collapsed": true
   },
   "outputs": [],
   "source": [
    "# Save the predictions data to csv file\n",
    "\n",
    "df_sol = pd.DataFrame({'forecast':inv_predictions,'actual':inv_y})\n",
    "df_sol.to_csv('generated/predictions_sv_lstm.csv')"
   ]
  },
  {
   "cell_type": "code",
   "execution_count": null,
   "metadata": {},
   "outputs": [],
   "source": []
  }
 ],
 "metadata": {
  "interpreter": {
   "hash": "77642b1de94b3ecd25ac7cee94ae6d4cd14a15f998248e7a28e862a045f813e3"
  },
  "kernelspec": {
   "display_name": "Python 3.6.9 64-bit ('tcc_puc': venv)",
   "name": "python3"
  },
  "language_info": {
   "codemirror_mode": {
    "name": "ipython",
    "version": 3
   },
   "file_extension": ".py",
   "mimetype": "text/x-python",
   "name": "python",
   "nbconvert_exporter": "python",
   "pygments_lexer": "ipython3",
   "version": "3.6.9"
  }
 },
 "nbformat": 4,
 "nbformat_minor": 2
}