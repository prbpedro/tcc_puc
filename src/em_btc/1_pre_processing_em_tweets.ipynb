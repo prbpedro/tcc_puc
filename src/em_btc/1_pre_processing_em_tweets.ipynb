{
 "cells": [
  {
   "cell_type": "code",
   "execution_count": 1,
   "metadata": {},
   "outputs": [
    {
     "name": "stderr",
     "output_type": "stream",
     "text": [
      "[nltk_data] Downloading package vader_lexicon to\n",
      "[nltk_data]     /home/prbpedro/nltk_data...\n",
      "[nltk_data]   Package vader_lexicon is already up-to-date!\n"
     ]
    },
    {
     "data": {
      "text/plain": [
       "True"
      ]
     },
     "execution_count": 1,
     "metadata": {},
     "output_type": "execute_result"
    }
   ],
   "source": [
    "import glob\n",
    "import os\n",
    "import pandas as pd\n",
    "import re\n",
    "import numpy as np\n",
    "import nltk\n",
    "import string\n",
    "from sklearn.preprocessing import minmax_scale\n",
    "from nltk.sentiment.vader import SentimentIntensityAnalyzer\n",
    "from pprint import pprint\n",
    "\n",
    "nltk.download('vader_lexicon')"
   ]
  },
  {
   "cell_type": "code",
   "execution_count": 2,
   "metadata": {},
   "outputs": [
    {
     "name": "stdout",
     "output_type": "stream",
     "text": [
      "<class 'pandas.core.frame.DataFrame'>\n",
      "Int64Index: 3282 entries, 1406073484300591105 to 1272943489479700481\n",
      "Data columns (total 2 columns):\n",
      " #   Column      Non-Null Count  Dtype \n",
      "---  ------      --------------  ----- \n",
      " 0   created_at  3282 non-null   object\n",
      " 1   full_text   3282 non-null   object\n",
      "dtypes: object(2)\n",
      "memory usage: 76.9+ KB\n"
     ]
    }
   ],
   "source": [
    "# Read data for pre processing\n",
    "\n",
    "base_path_to_csv = os.path.join(os.getcwd() + '/exported/emtweets/*.csv')\n",
    "csv_list = glob.glob(base_path_to_csv)\n",
    "\n",
    "df_list = [pd.read_csv(csv, index_col='id') for csv in csv_list]\n",
    "df = pd.concat(df_list)\n",
    "df = df.reset_index().drop_duplicates(subset='id', keep='first').set_index('id')\n",
    "df = df[['created_at', 'full_text']]\n",
    "df.info()"
   ]
  },
  {
   "cell_type": "code",
   "execution_count": 3,
   "metadata": {},
   "outputs": [
    {
     "data": {
      "text/plain": [
       "False"
      ]
     },
     "execution_count": 3,
     "metadata": {},
     "output_type": "execute_result"
    }
   ],
   "source": [
    "df.index.duplicated().any()"
   ]
  },
  {
   "cell_type": "code",
   "execution_count": 4,
   "metadata": {},
   "outputs": [],
   "source": [
    "# Normalizing tweets to sentimental analisys\n",
    "\n",
    "df['full_text'] = df['full_text'].astype('unicode')\n",
    "remove_rt = lambda x: re.sub('RT @\\w+: ', ' ', x)\n",
    "remove_users_ref = lambda x: re.sub(\"@[A-Za-z0-9]+\",\"\",x)\n",
    "remove_links = lambda x: re.sub(r\"(?:\\@|http?\\://|https?\\://|www)\\S+\", \"\", x)\n",
    "remove_hashtags_underlines = lambda x: x.replace(\"#\", \"\").replace(\"_\", \" \")\n",
    "\n",
    "df['full_text'] = df['full_text'].map(remove_rt).map(remove_users_ref).map(remove_links).map(remove_hashtags_underlines)\n",
    "df['full_text'] = df['full_text'].str.lower()\n",
    "df = df[df['full_text'].str.contains(\"bitcoin|btc|crypto\")]\n",
    "\n",
    "df['full_text'] = df['full_text'].str.replace('&amp;', 'and')\n",
    "df['full_text'] = df['full_text'].str.replace('&', 'and')\n",
    "df['full_text'] = df['full_text'].str.replace('💔', 'broke my heart')\n",
    "df['full_text'] = df['full_text'].str.replace('🤣', 'laughing ')\n",
    "df['full_text'] = df['full_text'].str.replace('🎶', '')\n",
    "df['full_text'] = df['full_text'].str.replace(\"it’s\", 'it is')\n",
    "df['full_text'] = df['full_text'].str.replace(\"don’t\", 'do not')\n",
    "df['full_text'] = df['full_text'].str.replace(\"can’t\", 'can not')\n",
    "df['full_text'] = df['full_text'].str.replace(\"won’t\", 'will not')\n",
    "df['full_text'] = df['full_text'].str.replace(\"people’s\", 'people')\n",
    "df['full_text'] = df['full_text'].str.replace(\"people’s\", 'people')\n",
    "df['full_text'] = df['full_text'].str.replace(\"there’s\", 'there is')\n",
    " \n",
    "remove_pontuacao = lambda x:  re.sub(r'[^\\w\\s]', '', x)\n",
    "remove_quebra_linha = lambda x:  re.sub(r'\\\\n', ' ', x)\n",
    "remove_tabulacao = lambda x:  re.sub(r'\\\\t', ' ', x)\n",
    "remove_multiplos_espacos = lambda x:  re.sub(' +', ' ', x)\n",
    "df['full_text'] = df['full_text'].map(remove_pontuacao).map(remove_quebra_linha).map(remove_tabulacao).map(remove_multiplos_espacos)\n",
    "df.dropna(inplace=True)\n",
    "\n",
    "df['full_text'] = df['full_text'].astype('unicode')"
   ]
  },
  {
   "cell_type": "code",
   "execution_count": 5,
   "metadata": {},
   "outputs": [],
   "source": [
    "# Normalizing created_at column \n",
    "# Creating influence_end_at column containing the date time that indicates the end of the influence of the tweet in the btc price\n",
    "\n",
    "df['created_at'] = pd.to_datetime(df['created_at'])\n",
    "df['created_at'] = df['created_at'].dt.normalize()\n",
    "df['influence_end_at'] = df['created_at']  + pd.DateOffset(days=1)\n",
    "df['influence_end_at'] = df['influence_end_at'].dt.normalize()"
   ]
  },
  {
   "cell_type": "code",
   "execution_count": 6,
   "metadata": {},
   "outputs": [
    {
     "data": {
      "text/html": [
       "<div>\n",
       "<style scoped>\n",
       "    .dataframe tbody tr th:only-of-type {\n",
       "        vertical-align: middle;\n",
       "    }\n",
       "\n",
       "    .dataframe tbody tr th {\n",
       "        vertical-align: top;\n",
       "    }\n",
       "\n",
       "    .dataframe thead th {\n",
       "        text-align: right;\n",
       "    }\n",
       "</style>\n",
       "<table border=\"1\" class=\"dataframe\">\n",
       "  <thead>\n",
       "    <tr style=\"text-align: right;\">\n",
       "      <th></th>\n",
       "      <th>created_at</th>\n",
       "      <th>full_text</th>\n",
       "      <th>influence_end_at</th>\n",
       "      <th>full_text_score</th>\n",
       "      <th>full_text_score_neg</th>\n",
       "      <th>full_text_score_neu</th>\n",
       "      <th>full_text_score_pos</th>\n",
       "    </tr>\n",
       "    <tr>\n",
       "      <th>id</th>\n",
       "      <th></th>\n",
       "      <th></th>\n",
       "      <th></th>\n",
       "      <th></th>\n",
       "      <th></th>\n",
       "      <th></th>\n",
       "      <th></th>\n",
       "    </tr>\n",
       "  </thead>\n",
       "  <tbody>\n",
       "    <tr>\n",
       "      <th>1404132183254523905</th>\n",
       "      <td>2021-06-13 00:00:00+00:00</td>\n",
       "      <td>this is inaccurate tesla only sold 10 of hold...</td>\n",
       "      <td>2021-06-14 00:00:00+00:00</td>\n",
       "      <td>0.8689</td>\n",
       "      <td>0.000</td>\n",
       "      <td>0.774</td>\n",
       "      <td>0.226</td>\n",
       "    </tr>\n",
       "    <tr>\n",
       "      <th>1400620080090730501</th>\n",
       "      <td>2021-06-04 00:00:00+00:00</td>\n",
       "      <td>bitcoin broke my heart</td>\n",
       "      <td>2021-06-05 00:00:00+00:00</td>\n",
       "      <td>-0.4215</td>\n",
       "      <td>0.483</td>\n",
       "      <td>0.517</td>\n",
       "      <td>0.000</td>\n",
       "    </tr>\n",
       "    <tr>\n",
       "      <th>1396914548167233537</th>\n",
       "      <td>2021-05-24 00:00:00+00:00</td>\n",
       "      <td>spoke with north american bitcoin miners they ...</td>\n",
       "      <td>2021-05-25 00:00:00+00:00</td>\n",
       "      <td>0.6222</td>\n",
       "      <td>0.000</td>\n",
       "      <td>0.819</td>\n",
       "      <td>0.181</td>\n",
       "    </tr>\n",
       "    <tr>\n",
       "      <th>1396049547680391168</th>\n",
       "      <td>2021-05-22 00:00:00+00:00</td>\n",
       "      <td>the true battle is between fiat and crypto on...</td>\n",
       "      <td>2021-05-23 00:00:00+00:00</td>\n",
       "      <td>0.4404</td>\n",
       "      <td>0.144</td>\n",
       "      <td>0.552</td>\n",
       "      <td>0.304</td>\n",
       "    </tr>\n",
       "    <tr>\n",
       "      <th>1395472799020421120</th>\n",
       "      <td>2021-05-20 00:00:00+00:00</td>\n",
       "      <td>bitcoin hashing aka mining energy usage is st...</td>\n",
       "      <td>2021-05-21 00:00:00+00:00</td>\n",
       "      <td>0.6486</td>\n",
       "      <td>0.000</td>\n",
       "      <td>0.825</td>\n",
       "      <td>0.175</td>\n",
       "    </tr>\n",
       "  </tbody>\n",
       "</table>\n",
       "</div>"
      ],
      "text/plain": [
       "                                   created_at  \\\n",
       "id                                              \n",
       "1404132183254523905 2021-06-13 00:00:00+00:00   \n",
       "1400620080090730501 2021-06-04 00:00:00+00:00   \n",
       "1396914548167233537 2021-05-24 00:00:00+00:00   \n",
       "1396049547680391168 2021-05-22 00:00:00+00:00   \n",
       "1395472799020421120 2021-05-20 00:00:00+00:00   \n",
       "\n",
       "                                                             full_text  \\\n",
       "id                                                                       \n",
       "1404132183254523905   this is inaccurate tesla only sold 10 of hold...   \n",
       "1400620080090730501                            bitcoin broke my heart    \n",
       "1396914548167233537  spoke with north american bitcoin miners they ...   \n",
       "1396049547680391168   the true battle is between fiat and crypto on...   \n",
       "1395472799020421120   bitcoin hashing aka mining energy usage is st...   \n",
       "\n",
       "                             influence_end_at  full_text_score  \\\n",
       "id                                                               \n",
       "1404132183254523905 2021-06-14 00:00:00+00:00           0.8689   \n",
       "1400620080090730501 2021-06-05 00:00:00+00:00          -0.4215   \n",
       "1396914548167233537 2021-05-25 00:00:00+00:00           0.6222   \n",
       "1396049547680391168 2021-05-23 00:00:00+00:00           0.4404   \n",
       "1395472799020421120 2021-05-21 00:00:00+00:00           0.6486   \n",
       "\n",
       "                     full_text_score_neg  full_text_score_neu  \\\n",
       "id                                                              \n",
       "1404132183254523905                0.000                0.774   \n",
       "1400620080090730501                0.483                0.517   \n",
       "1396914548167233537                0.000                0.819   \n",
       "1396049547680391168                0.144                0.552   \n",
       "1395472799020421120                0.000                0.825   \n",
       "\n",
       "                     full_text_score_pos  \n",
       "id                                        \n",
       "1404132183254523905                0.226  \n",
       "1400620080090730501                0.000  \n",
       "1396914548167233537                0.181  \n",
       "1396049547680391168                0.304  \n",
       "1395472799020421120                0.175  "
      ]
     },
     "execution_count": 6,
     "metadata": {},
     "output_type": "execute_result"
    }
   ],
   "source": [
    "# Creating full_text_score column with the compound value of the sentimental analisys of each tweet\n",
    "\n",
    "analyzer = SentimentIntensityAnalyzer()\n",
    "score_full_text = lambda x: analyzer.polarity_scores(x)['compound']\n",
    "score_neg_full_text = lambda x: analyzer.polarity_scores(x)['neg']\n",
    "score_neu_full_text = lambda x: analyzer.polarity_scores(x)['neu']\n",
    "score_pos_full_text = lambda x: analyzer.polarity_scores(x)['pos']\n",
    "\n",
    "df['full_text_score'] = None\n",
    "df['full_text_score_neg'] = None\n",
    "df['full_text_score_neu'] = None\n",
    "df['full_text_score_pos'] = None\n",
    "df['full_text_score'] = df['full_text'].map(score_full_text)\n",
    "df['full_text_score_neg'] = df['full_text'].map(score_neg_full_text)\n",
    "df['full_text_score_neu'] = df['full_text'].map(score_neu_full_text)\n",
    "df['full_text_score_pos'] = df['full_text'].map(score_pos_full_text)\n",
    "\n",
    "df.head()"
   ]
  },
  {
   "cell_type": "markdown",
   "metadata": {},
   "source": []
  },
  {
   "cell_type": "code",
   "execution_count": 7,
   "metadata": {},
   "outputs": [],
   "source": [
    "# Duplicating rows that contains differents created_at and influence_end_at column values\n",
    "\n",
    "new_rows = df[df['created_at'] != df['influence_end_at']]\n",
    "new_rows['created_at'] = new_rows['influence_end_at']\n",
    "new_rows['id'] = None\n",
    "\n",
    "new_df = df.append(new_rows)\n",
    "\n",
    "mask = df['created_at'].duplicated(keep=False)\n",
    "duplicados = df[mask]\n",
    "\n",
    "f_df = df[~mask].copy()\n",
    "f_df['Date'] = f_df['created_at']\n",
    "f_df['Score'] = f_df['full_text_score']\n",
    "f_df['PositiveScore'] = f_df['full_text_score_pos']\n",
    "f_df['NeutralScore'] = f_df['full_text_score_neu']\n",
    "f_df['NegativeScore'] = f_df['full_text_score_neg']\n",
    "f_df = f_df[['Date', 'Score', 'PositiveScore', 'NeutralScore', 'NegativeScore']]"
   ]
  },
  {
   "cell_type": "code",
   "execution_count": 8,
   "metadata": {},
   "outputs": [],
   "source": [
    "# Creating a dictionary with the tweet influence_end_at as key and the sum of the scores of sentimental analisys of tweets of that date and the number of tweets in that day as the value\n",
    "\n",
    "m = {}\n",
    "for d in duplicados['created_at'].unique():\n",
    "    if d not in m.keys():\n",
    "        m[d] = { \n",
    "            'count': 0, \n",
    "            'full_text_score': 0.0, \n",
    "            'full_text_score_pos': 0.0, \n",
    "            'full_text_score_neu': 0.0, \n",
    "            'full_text_score_neg': 0.0  \n",
    "            }\n",
    "    for i, row in df.loc[df['created_at'] == d].iterrows():\n",
    "        m[d]['full_text_score'] += row['full_text_score']\n",
    "        m[d]['full_text_score_pos'] += row['full_text_score_pos']\n",
    "        m[d]['full_text_score_neu'] += row['full_text_score_neu']\n",
    "        m[d]['full_text_score_neg'] += row['full_text_score_neg']\n",
    "        m[d]['count'] += 1"
   ]
  },
  {
   "cell_type": "code",
   "execution_count": 9,
   "metadata": {},
   "outputs": [],
   "source": [
    "# Creating csv file with columns Date and Score (Arithmetic mean of the twwets sentimental analisys score of that date )\n",
    "\n",
    "f_df2 = pd.DataFrame([ {\n",
    "    'Date': k, \n",
    "    'Score': v['full_text_score'] / v['count'], \n",
    "    'PositiveScore': v['full_text_score_pos'] / v['count'] , \n",
    "    'NeutralScore': v['full_text_score_neu'] / v['count'] , \n",
    "    'NegativeScore': v['full_text_score_neg'] / v['count'] \n",
    "    } for k, v in m.items()])\n",
    "\n",
    "df = pd.concat([f_df, f_df2], ignore_index=True)\n",
    "df.set_index('Date', inplace=True, drop=True)\n",
    "df = df[df['Score'] !=0]\n",
    "df['Score'] = df['Score'].round(decimals=4)\n",
    "df['PositiveScore'] = df['PositiveScore'].round(decimals=4)\n",
    "df['NeutralScore'] = df['NeutralScore'].round(decimals=4)\n",
    "df['NegativeScore'] = df['NegativeScore'].round(decimals=4)\n",
    "df.to_csv(\"generated/btc_em_sentimental_analysis.csv\")"
   ]
  },
  {
   "cell_type": "code",
   "execution_count": 10,
   "metadata": {},
   "outputs": [
    {
     "data": {
      "text/html": [
       "<div>\n",
       "<style scoped>\n",
       "    .dataframe tbody tr th:only-of-type {\n",
       "        vertical-align: middle;\n",
       "    }\n",
       "\n",
       "    .dataframe tbody tr th {\n",
       "        vertical-align: top;\n",
       "    }\n",
       "\n",
       "    .dataframe thead th {\n",
       "        text-align: right;\n",
       "    }\n",
       "</style>\n",
       "<table border=\"1\" class=\"dataframe\">\n",
       "  <thead>\n",
       "    <tr style=\"text-align: right;\">\n",
       "      <th></th>\n",
       "      <th>Score</th>\n",
       "      <th>PositiveScore</th>\n",
       "      <th>NeutralScore</th>\n",
       "      <th>NegativeScore</th>\n",
       "    </tr>\n",
       "    <tr>\n",
       "      <th>Date</th>\n",
       "      <th></th>\n",
       "      <th></th>\n",
       "      <th></th>\n",
       "      <th></th>\n",
       "    </tr>\n",
       "  </thead>\n",
       "  <tbody>\n",
       "    <tr>\n",
       "      <th>2021-06-13 00:00:00+00:00</th>\n",
       "      <td>0.8689</td>\n",
       "      <td>0.226</td>\n",
       "      <td>0.774</td>\n",
       "      <td>0.000</td>\n",
       "    </tr>\n",
       "    <tr>\n",
       "      <th>2021-06-04 00:00:00+00:00</th>\n",
       "      <td>-0.4215</td>\n",
       "      <td>0.000</td>\n",
       "      <td>0.517</td>\n",
       "      <td>0.483</td>\n",
       "    </tr>\n",
       "    <tr>\n",
       "      <th>2021-05-24 00:00:00+00:00</th>\n",
       "      <td>0.6222</td>\n",
       "      <td>0.181</td>\n",
       "      <td>0.819</td>\n",
       "      <td>0.000</td>\n",
       "    </tr>\n",
       "    <tr>\n",
       "      <th>2021-05-22 00:00:00+00:00</th>\n",
       "      <td>0.4404</td>\n",
       "      <td>0.304</td>\n",
       "      <td>0.552</td>\n",
       "      <td>0.144</td>\n",
       "    </tr>\n",
       "    <tr>\n",
       "      <th>2021-05-13 00:00:00+00:00</th>\n",
       "      <td>-0.0240</td>\n",
       "      <td>0.147</td>\n",
       "      <td>0.746</td>\n",
       "      <td>0.107</td>\n",
       "    </tr>\n",
       "  </tbody>\n",
       "</table>\n",
       "</div>"
      ],
      "text/plain": [
       "                            Score  PositiveScore  NeutralScore  NegativeScore\n",
       "Date                                                                         \n",
       "2021-06-13 00:00:00+00:00  0.8689          0.226         0.774          0.000\n",
       "2021-06-04 00:00:00+00:00 -0.4215          0.000         0.517          0.483\n",
       "2021-05-24 00:00:00+00:00  0.6222          0.181         0.819          0.000\n",
       "2021-05-22 00:00:00+00:00  0.4404          0.304         0.552          0.144\n",
       "2021-05-13 00:00:00+00:00 -0.0240          0.147         0.746          0.107"
      ]
     },
     "execution_count": 10,
     "metadata": {},
     "output_type": "execute_result"
    }
   ],
   "source": [
    "df.head()"
   ]
  },
  {
   "cell_type": "code",
   "execution_count": 11,
   "metadata": {},
   "outputs": [
    {
     "data": {
      "text/plain": [
       "<AxesSubplot:xlabel='Date'>"
      ]
     },
     "execution_count": 11,
     "metadata": {},
     "output_type": "execute_result"
    },
    {
     "data": {
      "image/png": "[encoded data removed]",
      "text/plain": [
       "<Figure size 432x288 with 1 Axes>"
      ]
     },
     "metadata": {
      "needs_background": "light"
     },
     "output_type": "display_data"
    }
   ],
   "source": [
    "df.plot()"
   ]
  },
  {
   "cell_type": "code",
   "execution_count": 12,
   "metadata": {},
   "outputs": [
    {
     "name": "stdout",
     "output_type": "stream",
     "text": [
      "<class 'pandas.core.frame.DataFrame'>\n",
      "DatetimeIndex: 17 entries, 2021-06-13 00:00:00+00:00 to 2020-12-20 00:00:00+00:00\n",
      "Data columns (total 4 columns):\n",
      " #   Column         Non-Null Count  Dtype  \n",
      "---  ------         --------------  -----  \n",
      " 0   Score          17 non-null     float64\n",
      " 1   PositiveScore  17 non-null     float64\n",
      " 2   NeutralScore   17 non-null     float64\n",
      " 3   NegativeScore  17 non-null     float64\n",
      "dtypes: float64(4)\n",
      "memory usage: 680.0 bytes\n"
     ]
    }
   ],
   "source": [
    "df.info()"
   ]
  }
 ],
 "metadata": {
  "interpreter": {
   "hash": "77642b1de94b3ecd25ac7cee94ae6d4cd14a15f998248e7a28e862a045f813e3"
  },
  "kernelspec": {
   "display_name": "Python 3.6.9 64-bit ('tcc_puc': venv)",
   "language": "python",
   "name": "python369jvsc74a57bd077642b1de94b3ecd25ac7cee94ae6d4cd14a15f998248e7a28e862a045f813e3"
  },
  "language_info": {
   "codemirror_mode": {
    "name": "ipython",
    "version": 3
   },
   "file_extension": ".py",
   "mimetype": "text/x-python",
   "name": "python",
   "nbconvert_exporter": "python",
   "pygments_lexer": "ipython3",
   "version": "3.6.9"
  },
  "metadata": {
   "interpreter": {
    "hash": "77642b1de94b3ecd25ac7cee94ae6d4cd14a15f998248e7a28e862a045f813e3"
   }
  },
  "orig_nbformat": 2
 },
 "nbformat": 4,
 "nbformat_minor": 2
}